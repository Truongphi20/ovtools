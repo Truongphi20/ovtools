{
 "cells": [
  {
   "cell_type": "markdown",
   "metadata": {},
   "source": [
    "# <center> Overviews tools </center>"
   ]
  },
  {
   "cell_type": "markdown",
   "metadata": {},
   "source": [
    "## Khảo sát số lượng các nghiên cứu trong và ngoài nước"
   ]
  },
  {
   "cell_type": "code",
   "execution_count": 2,
   "metadata": {},
   "outputs": [],
   "source": [
    "def ReadCount(file_csv): # Doc file dem csv\n",
    "    year = []\n",
    "    count = []\n",
    "    with open(file_csv) as t:\n",
    "        next(t)\n",
    "        next(t)\n",
    "        for line in t:\n",
    "            aline = line.rstrip().split(\",\")\n",
    "            year.append(aline[0])\n",
    "            count.append(int(aline[1]))\n",
    "    #print(year)\n",
    "    #print(count)\n",
    "    return year[::-1], count[::-1]"
   ]
  },
  {
   "cell_type": "code",
   "execution_count": 3,
   "metadata": {},
   "outputs": [],
   "source": [
    "year_global, count_global = ReadCount(\"tong.csv\") # Doc du lieu file tong tat ca\n",
    "#print(year_global)\n",
    "#print(count_global)\n",
    "\n",
    "year_vn, count_vn = ReadCount(\"vn.csv\") # Doc du lieu file tong tat ca\n",
    "#print(year_vn)\n",
    "#print(count_vn)"
   ]
  },
  {
   "cell_type": "code",
   "execution_count": 4,
   "metadata": {},
   "outputs": [],
   "source": [
    "## Tru so luong cac nam co vn de ve stack bar\n",
    "indexs = [i for i in range(len(year_global)) if year_global[i] in year_vn] # index cac nam trung\n",
    "#print(indexs)\n",
    "\n",
    "count_global_pre = [] # Chinh sua count global\n",
    "count_vn_pre = [] # Chinh sua count vn\n",
    "for i in range(len(count_global)):\n",
    "    if i not in indexs:\n",
    "        count_global_pre.append(count_global[i])\n",
    "        count_vn_pre.append(0)\n",
    "    else:\n",
    "        count_global_pre.append(count_global[i]-count_vn[indexs.index(i)])\n",
    "        count_vn_pre.append(count_vn[indexs.index(i)])\n",
    "#print(count_global_pre)\n",
    "#print(count_vn_pre)"
   ]
  },
  {
   "cell_type": "code",
   "execution_count": 5,
   "metadata": {},
   "outputs": [
    {
     "data": {
      "image/png": "[encoded data removed]",
      "text/plain": [
       "<Figure size 432x288 with 1 Axes>"
      ]
     },
     "metadata": {
      "needs_background": "light"
     },
     "output_type": "display_data"
    }
   ],
   "source": [
    "import pandas as pd\n",
    "from matplotlib import pyplot as plt\n",
    "import numpy as np\n",
    "\n",
    "## Ve stackbar\n",
    "data = pd.DataFrame(zip(year_global,count_global_pre,count_vn_pre),columns=[\"Năm\",\"Quốc tế\",\"Việt Nam\"]) # Tao dataframe\n",
    "#print(data)\n",
    "\n",
    "# plot data in stack manner of bar type\n",
    "data.plot(x='Năm', kind='bar', stacked=True,)\n",
    "plt.show()"
   ]
  },
  {
   "cell_type": "markdown",
   "metadata": {},
   "source": [
    "## Tìm tên vi khuẩn trong các bài báo "
   ]
  },
  {
   "cell_type": "code",
   "execution_count": 6,
   "metadata": {},
   "outputs": [
    {
     "name": "stdout",
     "output_type": "stream",
     "text": [
      "\n",
      "2. Arch Tierernahr. 2001;54(1):1-17. doi: 10.1080/17450390109381962. \n",
      "Growth behaviour of a spore forming probiotic strain in the gastrointestinal tract of broiler chicken and piglets. \n",
      "Jadamus A(1), Vahjen W, Simon O. \n",
      "Author information: (1)Institute of Animal Nutrition, Faculty of Veterinary Medicine, Free University Berlin, Brümmerstrasse 34, D-14195 Berlin, Germany. jadamus@zedat.fu-berlin.de \n",
      "The growth behaviour of the probiotic strain Bacillus cereus var. toyoi in the gastrointestinal tract of broiler chicken and suckling piglets was evaluated. The strain germinated rapidly in intestinal samples from both animal species. Less than 10% of spores were recovered from the chicken crop and piglet stomach, respectively. Lumen samples and mucosal tissues from the hind gut of piglets displayed increasing colonization of the probiotic strain throughout the trial period. After oral administration of vegetative cells to broiler chicken and weaned piglets, sporulation was detected in all intestinal samples. The distribution of spore CFU indicated repeated germination and sporulation during the intestinal passage in piglets. B. cereus var. toyoi was not able to colonize the intestinal tract of both animal species. However, the probiotic strain was detected in suckling piglets before uptake of B. cereus var. toyoi supplemented feed. It is concluded that B. cereus var. toyoi germinates rapidly in broiler chicken and piglets, which is a necessary prerequisite for its possible probiotic effects. Germination and in vivo sporulation of vegetative cells indicated that the probiotic strain was metabolically active in the intestine of both animal species. \n",
      "DOI: 10.1080/17450390109381962 PMID: 11851013 [Indexed for MEDLINE] \n",
      "\n"
     ]
    }
   ],
   "source": [
    "## Đọc dữ liệu\n",
    "with open(\"find_org.txt\", encoding=\"utf-8\") as f:\n",
    "    tem_para = [] # Ghep thanh cac paragraph\n",
    "    tem_line = \"\"\n",
    "    for line in f:\n",
    "        if line == \"\\n\":\n",
    "            tem_para.append(tem_line)\n",
    "            tem_line = \"\"\n",
    "        else:\n",
    "            tem_line += line.rstrip() + \" \" \n",
    "    #print(tem_para[3])\n",
    "    data_term = []\n",
    "    tem_data = \"\"\n",
    "    for para in tem_para:\n",
    "        if \"PMID:\" in para:\n",
    "            tem_data += para + \"\\n\"\n",
    "            data_term.append(tem_data)\n",
    "            tem_data = \"\"\n",
    "        elif \"Conflict of interest statement:\" in para:\n",
    "            data_term[-1] += para + \"\\n\"\n",
    "        else:\n",
    "            tem_data +=  para + \"\\n\"\n",
    "    print(data_term[1])\n"
   ]
  },
  {
   "cell_type": "code",
   "execution_count": 7,
   "metadata": {},
   "outputs": [
    {
     "name": "stdout",
     "output_type": "stream",
     "text": [
      "Enterococcus faecium, E. faecium, Salmonella enteritidis, Staphylococcus aureus\n",
      "Bacillus cereus, B. cereus\n",
      "Lactobacillus curvatus, Isolated from, Chicken Ceca., Lactobacillus strains, Campylobacter jejuni, Listeria monocytogenes, Bacillus subtilis, B. subtilis\n",
      "Lactobacillus paracasei, Intestinal Microflora.\n",
      "Saccharomyces cerevisiae, Chemical Industry.\n",
      "Lactobacillus strain, Clostridium perfringens, Lactobacillus populations, Clostridium coccoides, Faecalibacterium prausnitzii, C. coccoides, Lactobacillus population.\n",
      "L. ingluviei\n",
      "Chicken Growth, S. cerevisiae, P. Other\n",
      "Enterococcus faecium, Isolated from, Chicken Cecum, Immunomodulating Activity, Promoting Longevity, Caenorhabditis elegans., Enterococcus strain, E. faecium, Salmonella Typhimurium, Typhimurium infection, C. elegans\n",
      "Lactobacillus reuteri, L. reuteri\n",
      "Lactobacillus salivarius, L. salivarius, Actinobacteria were\n",
      "Lactobacillus reuteri\n",
      "Probiotic Bacillus, Bacillus subtilis, Increases Antioxidant, Antioxidant Capacity, Oxidative Stability, Chicken Breast\n",
      "Lactobacillus crispatus, Lactobacillus strains, Lactobacillus crispatus., L. crispatus, L. crispatus.\n",
      "Bacillus subtilis, Bacillus strains, Bacillus licheniformis., B. subtilis, B. licheniformis, Bacillus isolates\n",
      "Lactobacillus rhamnosus, Selected lactic, Basement Membrane, Membrane Matrigel, Escherichia coli, L. rhamnosus\n",
      "Lactobacillus salivarius, European Union\n",
      "L. fermentum, L. animalis, Salmonella pullorum, S. gallinarum, Salmonella adhesion.\n",
      "Lactobacillus casei., Campylobacter jejuni, Lactobacillus casei, C. jejuni, Salmonella enterica., S. enterica\n",
      "Escherichia coli\n",
      "Lactobacillus animalis, Lactobacillus reuteri, Isolated from, Chicken Cecum., Lactobacillus isolates\n",
      "Enterobacteriaceae family\n",
      "Lactobacillus strains, Lactobacillus plantarum, L. plantarum, Lactobacillus fermentum, Escherichia coli, E. coli, Salmonella enterica\n",
      "Lactobacillus spp., Lactobacillus acidophilus, L. acidophilus, Lactobacillus vaginalis, Lactobacillus salivarius, Lactobacillus reuteri, L. salivarius, L. vaginalis, L. reuteri\n",
      "Lactobacillus bearing, Bacteria isolated, L. crispatus, E. coli, Lactobacillus strains, Lactobacillus isolated\n",
      "Lactobacilli derived, Lactobacillus acidophilus, Lactobacillus strains, L. acidophilus\n",
      "Lactobacillus spp., Campylobacter jejuni, Campylobacter spp., C. jejuni, Lactobacillus rhamnosus, Campylobacter adhesion\n",
      "Intestinal Microbiota, Broiler Chicken., Lactobacillus strains, Escherichia coli, L. agilis, L. salivarius, E. coli\n",
      "Lactobacillus salivarius, Isolated from, Chicken Small, Illumina platforms\n",
      "Bacillus subtilis, Escherichia coli, Campylobacter jejuni, S. Typhimurium, Salmonella var., C. jejuni.\n",
      "Campylobacter spp., Campylobacter adheres, Lactobacillus rhamnosus, Propionibacterium freudenreichii, Lactococcus lactis\n",
      "Isolated from, Chinese Local, Chicken Modulates, Improves Intestinal, Intestinal Health, Lactobacillus strains, Lactobacillus salivarius, L. salivarius\n",
      "Bifidobacterium isolated, Bifidobacterium from, Bifidobacterium bifidum, B. bifidum\n",
      "Lactobacillus reuteri, Isolated from, L. reuteri\n",
      "Probiotic supplementation\n",
      "Lactobacillus Strains, Isolated from, Chicken Cecum., Lactobacillus crispatus, Lactobacillus animalis\n",
      "Lactobacilli isolated, Lactobacillus spp., Lactobacillus salivarius\n",
      "Lactobacillus spp., Campylobacter colonization., C. jejuni, Lactobacillus species, Campylobacter colonization, Lactobacillus genus, L. plantarum, Campylobacter immunodominant\n",
      "Potential Native, Probiotics Lactobacillus, Lactobacillus spp., Salmonella Infantis, Salmonella Kentucky, Lebanese Chicken, Chicken Origin., Salmonella spp., Lactobacillus genus, Limosilactobacillus fermentum, Lactobacillus crispatus, L. crispatus, Limosilactobacillus reuteri, S. Infantis, S. Kentucky, Salmonella after\n",
      "Lactobacillus crispatus, Isolated from, Chicken Cecum.\n",
      "Broiler Chicken, Chicken Drinking, Drinking Water, Campylobacter jejuni, Increases Weight, C. jejuni, Bacillus subtilis, B. subtilis, Campylobacter counts\n"
     ]
    }
   ],
   "source": [
    "def CheckSpec(word): # Check word co ky tu dac biet\n",
    "    special_characters = \"!\\\"#$%&'()*+,-/:;<=>?@[\\]^_`{|}~\"\n",
    "    word_char = [x for x in word]\n",
    "    #print(word_char)\n",
    "    ans = False\n",
    "    for w in word_char:\n",
    "        if w in special_characters:\n",
    "            ans = True\n",
    "            break\n",
    "    return ans\n",
    "#print(CheckSpec(\"asf\"))\n",
    "\n",
    "def CheckUp(word): \n",
    "    ans = False \n",
    "    \n",
    "    for w in word:\n",
    "        if w.isnumeric(): # check trong word co so\n",
    "            ans = True\n",
    "            break\n",
    "\n",
    "    car = word.split(\" \") \n",
    "    if len(car[0]) < 7 and len(car[0]) > 2: # Loai cac word co do dai tu dau < 7 vaf > 2 \n",
    "        ans = True \n",
    "    if len(car[0]) == 2: # Neu do dai la 2 thi ky tu 2 phai la . (vd: L., B.)\n",
    "        if car[0][1] != \".\":\n",
    "            ans = True\n",
    "    if \".\" in car[0] and len(car[0]) != 2: # Neu co . trong tu dau ma do dai <> 2 thi loai\n",
    "        ans = True\n",
    "\n",
    "\n",
    "    if len(car[1]) < 4: # Loai cac word co do dai tu dau < 7 vaf > 2 \n",
    "        ans = True \n",
    "\n",
    "    a = 0\n",
    "    for i in car[0]: # Check trong chu tu dau tien co tren 1 tu viet hoa\n",
    "        if i.isupper():\n",
    "            a += 1\n",
    "        if a == 2:\n",
    "            ans = True\n",
    "            break  \n",
    "\n",
    "    return ans\n",
    "#print(CheckUp(\"aNh\"))\n",
    "\n",
    "## Trich xuat ten vi khuan (lay tieu de va abtract trich xuat tu in hoa)\n",
    "data_term = [da.strip() for da in data_term]\n",
    "#print(data_term[1])\n",
    "\n",
    "ti_ab = [term.split(\"\\n\")[1] + term.split(\"\\n\")[4].lstrip() for term in data_term] # Trich xuat tieu de vaf abtract\n",
    "\n",
    "def FindName(ti_ab,page): # Tim kiem ten vi khuan trong cac page\n",
    "    #print(ti_ab[page])\n",
    "    words = ti_ab[page].strip().split(\" \") # Chuyen thanh list tu\n",
    "    #print(words)\n",
    "\n",
    "    name = [words[i] + \" \" +  words[i+1] for i in range(len(words)) if words[i][0].isupper() and words[i-1][-1] != \".\" and len(words[i]) != 1 and i != len(words)-1] # Loc ra ten in hoa\n",
    "    #print(name) \n",
    "\n",
    "    ## Loc lan 1\n",
    "    name_sorted1 = []\n",
    "    tem = [name_sorted1.append(i) for i in name if i not in name_sorted1] # Loc ten trung nhau\n",
    "    #print(name_sorted1)\n",
    "\n",
    "    ## Loc lan 2\n",
    "    name_sorted2 = [i for i in name_sorted1 if CheckSpec(i) == False] # Loc cac ky tu dac biet\n",
    "    #print(name_sorted2)\n",
    "\n",
    "    ## Loc lan 3\n",
    "    # Check trong chu tu dau tien co tren 1 tu viet hoa \n",
    "    # Chu cai thu 2 la so\n",
    "    name_sorted3 = [i for i in name_sorted2 if CheckUp(i) == False] \n",
    "    #print(name_sorted3)\n",
    "    return \", \".join(name_sorted3)\n",
    "#print(FindName(ti_ab,7))\n",
    "\n",
    "list_keys = [FindName(ti_ab,page) for page in range(len(ti_ab))]\n",
    "print(\"\\n\".join(list_keys))\n"
   ]
  },
  {
   "cell_type": "markdown",
   "metadata": {},
   "source": [
    "## Trích xuất lợi khuẩn và hại khuẩn"
   ]
  },
  {
   "cell_type": "code",
   "execution_count": 8,
   "metadata": {},
   "outputs": [
    {
     "name": "stdout",
     "output_type": "stream",
     "text": [
      "[['Enterococcus faecium', 'E. faecium'], ['Bacillus cereus'], ['Lactobacillus curvatus', 'Bacillus subtilis', 'B. subtilis'], ['Lactobacillus paracasei'], ['Saccharomyces cerevisiae'], ['Clostridium perfringens', 'Faecalibacterium prausnitzii'], ['L. ingluviei'], ['S. cerevisiae'], ['Enterococcus faecium', 'Caenorhabditis elegans', 'E. faecium', 'C. elegans'], ['Lactobacillus reuteri', 'L. reuteri'], ['Lactobacillus salivarius', 'L. salivarius'], ['Lactobacillus reuteri'], ['Bacillus subtilis'], ['Lactobacillus crispatus', 'Lactobacillus crispatus', 'L. crispatus', 'L. crispatus'], ['Bacillus subtilis', 'Bacillus licheniformis', 'B. subtilis', 'B. licheniformis'], ['Lactobacillus rhamnosus', 'L. rhamnosus'], ['Lactobacillus salivarius'], ['L. fermentum', 'L. animalis'], ['Lactobacillus casei', 'Lactobacillus casei'], [''], ['Lactobacillus animalis', 'Lactobacillus reuteri'], [''], ['Lactobacillus plantarum', 'L. plantarum', 'Lactobacillus fermentum'], ['Lactobacillus acidophilus', 'L. acidophilus', 'Lactobacillus vaginalis', 'Lactobacillus salivarius', 'Lactobacillus reuteri', 'L. salivarius', 'L. vaginalis', 'L. reuteri'], ['Lactobacillus bearing', 'L. crispatus'], ['Lactobacillus acidophilus', 'L. acidophilus'], ['Lactobacillus rhamnosus'], ['L. agilis', 'L. salivarius'], ['Lactobacillus salivarius'], ['Bacillus subtilis', 'S. Typhimurium'], ['Lactobacillus rhamnosus', 'Propionibacterium freudenreichii', 'Lactococcus lactis'], ['Lactobacillus salivarius', 'L. salivarius'], ['Bifidobacterium bifidum', 'B. bifidum'], ['Lactobacillus reuteri', 'L. reuteri'], [''], ['Lactobacillus crispatus', 'Lactobacillus animalis'], ['Lactobacillus salivarius'], ['L. plantarum'], ['Limosilactobacillus fermentum', 'Lactobacillus crispatus', 'L. crispatus', 'Limosilactobacillus reuteri'], ['Lactobacillus crispatus'], ['Bacillus subtilis', 'B. subtilis']]\n"
     ]
    }
   ],
   "source": [
    "## Doc du lieu\n",
    "daa = []\n",
    "with open(\"useful_org.txt\") as file:\n",
    "    for line in file:\n",
    "        tem = line.rstrip().split(\", \")\n",
    "        for i in range(len(tem)):\n",
    "            if len(tem[i]) > 0 and tem[i][-1] == \".\":\n",
    "                tem[i] = tem[i][:-1]\n",
    "        daa.append(tem)\n",
    "print(daa)"
   ]
  },
  {
   "cell_type": "code",
   "execution_count": 9,
   "metadata": {},
   "outputs": [
    {
     "name": "stdout",
     "output_type": "stream",
     "text": [
      "{'Enterococcus faecium': 2, 'Lactobacillus curvatus': 1, 'Bacillus subtilis': 4, 'Clostridium perfringens': 1, 'Faecalibacterium prausnitzii': 1, 'Caenorhabditis elegans': 1, 'Lactobacillus reuteri': 4, 'Lactobacillus salivarius': 3, 'Lactobacillus crispatus': 3, 'Bacillus licheniformis': 1, 'Lactobacillus rhamnosus': 2, 'L. fermentum': 1, 'L. animalis': 1, 'Lactobacillus casei': 1, 'Lactobacillus animalis': 2, 'Lactobacillus plantarum': 1, 'Lactobacillus fermentum': 1, 'Lactobacillus acidophilus': 2, 'Lactobacillus vaginalis': 1, 'Lactobacillus bearing': 1, 'L. crispatus': 1, 'L. agilis': 1, 'L. salivarius': 1, 'S. Typhimurium': 1, 'Propionibacterium freudenreichii': 1, 'Lactococcus lactis': 1, 'Bifidobacterium bifidum': 1, 'Limosilactobacillus fermentum': 1, 'Limosilactobacillus reuteri': 1}\n"
     ]
    }
   ],
   "source": [
    "def CheckSec(word1,word2): # Check tu thu 2 cua 2 chu\n",
    "    ans = False\n",
    "    if word1.split(\" \")[1] == word2.split(\" \")[1]:\n",
    "        ans = True\n",
    "    return ans\n",
    "#print(CheckSec('Enterococcus faecium', 'E. faecium'))\n",
    "\n",
    "def Locten(lis):# Loc ten duy nhat trong list\n",
    "    ten_sec = []\n",
    "    ten_fir = []\n",
    "    for t in lis:\n",
    "        if t.split(\" \")[1] in ten_sec:\n",
    "            if len(t.split(\" \")[0]) > len(ten_fir[ten_sec.index(t.split(\" \")[1])]):\n",
    "                ten_fir[ten_sec.index(t.split(\" \")[1])] = t.split(\" \")[0]\n",
    "        else:\n",
    "            ten_fir.append(t.split(\" \")[0])\n",
    "            ten_sec.append(t.split(\" \")[1])\n",
    "    #print(ten_fir)\n",
    "    #print(ten_sec)\n",
    "\n",
    "    name_sort = [ten_fir[i] + \" \" + ten_sec[i] for i in range(len(ten_fir))]\n",
    "    #print(name_sort)\n",
    "    return name_sort\n",
    "#print(Locten(lis))\n",
    "\n",
    "lib = {}\n",
    "for lis in daa:\n",
    "    if len(lis) > 1:\n",
    "        name = Locten(lis) # Ten duy nhat cua vi khuan\n",
    "        #print(name)\n",
    "        for ten in name:\n",
    "            if ten not in lib:\n",
    "                lib[ten] = 1\n",
    "            else:\n",
    "                lib[ten] += 1\n",
    "        #print(lib)\n",
    "print(lib)\n"
   ]
  },
  {
   "cell_type": "code",
   "execution_count": 10,
   "metadata": {},
   "outputs": [],
   "source": [
    "def Sort_2_list(list1,list2):\n",
    "\n",
    "    index = list(range(len(list1)))\n",
    "    print(index)\n",
    "\n",
    "    index.sort(key = list1.__getitem__)\n",
    "    print(index)\n",
    "\n",
    "    list1[:] = [list1[i] for i in index]\n",
    "    list2[:] = [list2[i] for i in index]\n",
    "\n",
    "    #print(list1)\n",
    "    #print(list2)\n",
    "    return list1, list2"
   ]
  },
  {
   "cell_type": "code",
   "execution_count": 23,
   "metadata": {},
   "outputs": [
    {
     "name": "stdout",
     "output_type": "stream",
     "text": [
      "[0, 1, 2, 3, 4, 5, 6, 7, 8, 9, 10, 11, 12, 13, 14, 15, 16, 17, 18, 19, 20, 21, 22, 23, 24, 25, 26, 27, 28]\n",
      "[1, 3, 4, 5, 9, 11, 12, 13, 15, 16, 18, 19, 20, 21, 22, 23, 24, 25, 26, 27, 28, 0, 10, 14, 17, 7, 8, 2, 6]\n",
      "43\n"
     ]
    },
    {
     "data": {
      "image/png": "[encoded data removed]",
      "text/plain": [
       "<Figure size 432x288 with 1 Axes>"
      ]
     },
     "metadata": {
      "needs_background": "light"
     },
     "output_type": "display_data"
    }
   ],
   "source": [
    "from matplotlib import pyplot as plt\n",
    "import pandas as pd\n",
    "## Vẽ biểu đồ histogram\n",
    "name_bac = [key for key in lib] # Ten vi khuan probiotic\n",
    "#print(name_bac)\n",
    "name_hist = [name.split(\" \")[0][0] + \". \" + name.split(\" \")[1] for name in name_bac]\n",
    "#print(name_hist)\n",
    "\n",
    "mount = [lib[i] for i in name_bac] # So luong bai bao nghien cuu\n",
    "#print(mount)\n",
    "mounta, name_hista = Sort_2_list(mount, name_hist)\n",
    "print(sum(mounta))\n",
    "#print(name_hista)\n",
    "\n",
    "# Figure Size\n",
    "''''\n",
    "fig_1 = plt.figure(1, figsize=(20,7))\n",
    "plt.bar(name_hista,mounta, zorder = 3)\n",
    "plt.xticks(rotation = 45, ha='right')\n",
    "plt.yticks(np.arange(min(mounta), max(mounta)+1, 1))\n",
    "plt.grid(zorder=0, axis=\"y\")\n",
    "plt.show()\n",
    "'''\n",
    "\n",
    "data = pd.DataFrame(zip(mounta, name_hista),columns=[\"Sl\",\"name\"]) # Tao dataframe\n",
    "#print(data)\n",
    "# Horizontal Bar Plots\n",
    "data.plot(x='name', kind='bar', zorder = 3)\n",
    "plt.xticks(rotation = 45, ha='right') # Rotates X-Axis Ticks by 45-degrees\n",
    "plt.yticks(np.arange(min(mounta), max(mounta)+1, 1))\n",
    "plt.xlabel(\"\")\n",
    "plt.legend('')\n",
    "plt.grid(zorder=0, axis=\"y\")\n",
    "# Show Plot\n",
    "plt.show()\n"
   ]
  }
 ],
 "metadata": {
  "kernelspec": {
   "display_name": "Python 3.9.7 64-bit",
   "language": "python",
   "name": "python3"
  },
  "language_info": {
   "codemirror_mode": {
    "name": "ipython",
    "version": 3
   },
   "file_extension": ".py",
   "mimetype": "text/x-python",
   "name": "python",
   "nbconvert_exporter": "python",
   "pygments_lexer": "ipython3",
   "version": "3.9.7"
  },
  "orig_nbformat": 4,
  "vscode": {
   "interpreter": {
    "hash": "e33dda8a4d12c9c36a233218a905238da2bb40652a11ab3365bb0fe0ea2bff9b"
   }
  }
 },
 "nbformat": 4,
 "nbformat_minor": 2
}
